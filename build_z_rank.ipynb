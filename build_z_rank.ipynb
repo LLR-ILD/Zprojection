{
 "cells": [
  {
   "cell_type": "markdown",
   "metadata": {},
   "source": [
    "# Build zRank"
   ]
  },
  {
   "cell_type": "code",
   "execution_count": null,
   "metadata": {},
   "outputs": [],
   "source": [
    "import matplotlib.pyplot as plt\n",
    "import numexpr\n",
    "import numpy as np\n",
    "import pandas as pd\n",
    "\n",
    "%matplotlib inline\n",
    "plt.rcParams[\"figure.figsize\"] = [10, 5]"
   ]
  },
  {
   "cell_type": "code",
   "execution_count": null,
   "metadata": {},
   "outputs": [],
   "source": [
    "import sys\n",
    "sys.path.append(\"/home/kunath/iLCSoft/projects/ZH\")\n",
    "\n",
    "from higgsstrahlung.from_root import RootfileHandler\n",
    "import higgsstrahlung.cuts as cuts\n",
    "\n",
    "file_handler = RootfileHandler(tupleName=\"e1Tree\")\n",
    "\n",
    "meta = pd.read_pickle(file_handler._r2p.df_folder / \"meta.pkl\")\n",
    "\n",
    "events = file_handler._df\n",
    "# e1 = file_handler._getDataFrame(single_uncut_process=\"e1e1h\")\n",
    "# preselection = \"(\" + \") & (\".join(cuts.preselections[\"e1Tree\"]) + \")\"\n",
    "e1 = events[events.process == \"e1e1h\"]\n",
    "\n",
    "nu_events = RootfileHandler(tupleName=\"nuTree\")._df"
   ]
  },
  {
   "cell_type": "code",
   "execution_count": null,
   "metadata": {},
   "outputs": [],
   "source": [
    "e1"
   ]
  },
  {
   "cell_type": "markdown",
   "metadata": {},
   "source": [
    "## Build a ranking"
   ]
  },
  {
   "cell_type": "code",
   "execution_count": null,
   "metadata": {
    "tags": []
   },
   "outputs": [],
   "source": [
    "from z_rank import createZRanking\n",
    "\n",
    "cl = createZRanking(e1, events, 1_000, print_every=100, save_as=\"e1_eLpR\")"
   ]
  },
  {
   "cell_type": "code",
   "execution_count": null,
   "metadata": {},
   "outputs": [],
   "source": [
    "cl"
   ]
  },
  {
   "cell_type": "code",
   "execution_count": null,
   "metadata": {
    "tags": []
   },
   "outputs": [],
   "source": [
    "#%%capture out  \n",
    "# Do not show the figure. \n",
    "\n",
    "def addPreviouslyProposedCutLines(axs):\n",
    "    kw = dict(color=\"orange\", ls=\":\")\n",
    "    axs[0].axhline(88, **kw, label=\"proposed by-hand cut\")\n",
    "    axs[0].axhline(94, **kw)\n",
    "    axs[1].axhline(124, **kw)\n",
    "    axs[1].axhline(127, **kw)\n",
    "    axs[2].axhline(.99, **kw)\n",
    "    axs[3].axhline(.93, **kw)\n",
    "\n",
    "fig, axs = plt.subplots(5, figsize=(10, 25), sharex=True)\n",
    "axs[0].fill_between(cl.index, cl[\"mZ >= \"], cl[\"mZ <= \"], alpha=.9, label=\"eff-pur ranked cut\")\n",
    "axs[1].fill_between(cl.index, cl[\"mRecoil <= \"], cl[\"mRecoil >= \"], alpha=.9)\n",
    "axs[2].fill_between(cl.index, 0, cl[\"abs(cosTMiss) <= \"], alpha=.9)\n",
    "axs[3].fill_between(cl.index, 0, cl[\"abs(cosTZ) <= \"], alpha=.9)\n",
    "\n",
    "for i in range(len(axs)):\n",
    "    axs[i].axvline((cl.eff * cl.pur).argmax(), color=\"gray\", ls=\"--\")\n",
    "axs[0].set_ylabel(\"mZ\")\n",
    "axs[1].set_ylabel(\"mRecoil\")\n",
    "axs[2].set_ylabel(\"abs(cosTMiss)\")\n",
    "axs[3].set_ylabel(\"abs(cosTZ)\")\n",
    "axs[-1].set_xlabel(\"iteration\")\n",
    "\n",
    "addPreviouslyProposedCutLines(axs)\n",
    "\n",
    "cl.pur.plot(ax=axs[-1])\n",
    "cl.eff.plot(ax=axs[-1])\n",
    "(cl.eff * cl.pur).plot(label=\"eff*pur\", ax=axs[-1])\n",
    "axs[-1].axvline((cl.eff * cl.pur).argmax(), color=\"gray\", ls=\"--\")\n",
    "axs[-1].set_xlim((0, cl.index.max()))\n",
    "axs[0].legend()\n",
    "axs[-1].legend()\n",
    "\n",
    "fig.savefig(\"fig/z_ranking.png\", facecolor=\"white\", dpi=300)"
   ]
  },
  {
   "cell_type": "code",
   "execution_count": null,
   "metadata": {
    "tags": []
   },
   "outputs": [],
   "source": [
    "print((cl.eff * cl.pur).max())\n",
    "cl.iloc[(cl.eff * cl.pur).argmax()]"
   ]
  },
  {
   "cell_type": "markdown",
   "metadata": {},
   "source": [
    "## Add the zRank variable"
   ]
  },
  {
   "cell_type": "code",
   "execution_count": null,
   "metadata": {
    "tags": []
   },
   "outputs": [],
   "source": [
    "from z_rank import getZRank\n",
    "\n",
    "events[\"zRank\"] = getZRank(events, ranking_table=\"e1_eLpR\")"
   ]
  },
  {
   "cell_type": "code",
   "execution_count": null,
   "metadata": {},
   "outputs": [],
   "source": [
    "signal = events[events.process == \"e1e1h\"]\n",
    "\n",
    "events.zRank.plot.hist(bins=200, weights=events.weight, label=\"all\")\n",
    "signal.zRank.plot.hist(bins=200, weights=signal.weight, label=\"e1e1h\")\n",
    "plt.yscale(\"log\")\n",
    "plt.xlabel(\"Z$_e$\")\n",
    "plt.legend();"
   ]
  },
  {
   "cell_type": "markdown",
   "metadata": {},
   "source": [
    "## Add the $\\nu\\nu$-BDT$_H$"
   ]
  },
  {
   "cell_type": "code",
   "execution_count": null,
   "metadata": {},
   "outputs": [],
   "source": [
    "from higgs_only_model import getXGBModel\n",
    "\n",
    "model, training_columns = getXGBModel()\n",
    "\n",
    "h_pred = model.predict_proba(events[training_columns])[:,1]  # sklearn model.\n",
    "events[\"hBDT\"] = h_pred"
   ]
  },
  {
   "cell_type": "code",
   "execution_count": null,
   "metadata": {},
   "outputs": [],
   "source": [
    "signal = events[events.process == \"e1e1h\"]\n",
    "\n",
    "events.hBDT.plot.hist(bins=200, weights=events.weight, label=\"all\")\n",
    "signal.hBDT.plot.hist(bins=200, weights=signal.weight, label=\"e1e1h\")\n",
    "plt.yscale(\"log\")\n",
    "plt.xlabel(\"BDT$_H$\")\n",
    "plt.legend();"
   ]
  },
  {
   "cell_type": "code",
   "execution_count": null,
   "metadata": {},
   "outputs": [],
   "source": [
    "nu_events[\"hBDT\"] = model.predict_proba(nu_events[training_columns])[:,1]\n",
    "\n",
    "nu_signal = nu_events[nu_events.process == \"nnh\"]\n",
    "nu_events.hBDT.plot.hist(bins=200, weights=nu_events.weight, label=\"all\")\n",
    "nu_signal.hBDT.plot.hist(bins=200, weights=nu_signal.weight, label=\"nnh\")\n",
    "plt.yscale(\"log\")\n",
    "plt.xlabel(\"BDT$_H$\")\n",
    "plt.legend();"
   ]
  },
  {
   "cell_type": "markdown",
   "metadata": {},
   "source": [
    "## Appendix:\n",
    "A H ranking for the Higgs part of ZH, Z->$\\nu\\nu$ events.\n",
    "(Was produced earlier along the lines of the Z ranking. Here only loaded.)"
   ]
  },
  {
   "cell_type": "code",
   "execution_count": null,
   "metadata": {},
   "outputs": [],
   "source": [
    "from z_rank import getZRank\n",
    "\n",
    "nu_events[\"hRank\"] = getZRank(nu_events, ranking_table=\"nu_eLpR\")\n",
    "nu_signal = nu_events[nu_events.process == \"nnh\"]\n",
    "nu_events.hRank.plot.hist(bins=200, weights=nu_events.weight, label=\"all\")\n",
    "nu_signal.hRank.plot.hist(bins=200, weights=nu_signal.weight, label=\"nnh\")\n",
    "plt.yscale(\"log\")\n",
    "plt.xlabel(\"BDT$_H$\")\n",
    "plt.legend();"
   ]
  }
 ],
 "metadata": {
  "kernelspec": {
   "display_name": "Python 3.8.3 64-bit ('higgsstrahlung': conda)",
   "metadata": {
    "interpreter": {
     "hash": "d9122d5942d52689718d3047523d1599d0914713ab5334a6907ef09a09422c1c"
    }
   },
   "name": "python38364bithiggsstrahlungconda5070824dba8f42debf62d24417dacd9c"
  },
  "language_info": {
   "codemirror_mode": {
    "name": "ipython",
    "version": 3
   },
   "file_extension": ".py",
   "mimetype": "text/x-python",
   "name": "python",
   "nbconvert_exporter": "python",
   "pygments_lexer": "ipython3",
   "version": "3.8.3-final"
  }
 },
 "nbformat": 4,
 "nbformat_minor": 2
}
