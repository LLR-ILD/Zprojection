{
 "cells": [
  {
   "cell_type": "markdown",
   "metadata": {},
   "source": [
    "# Build zRank"
   ]
  },
  {
   "cell_type": "code",
   "execution_count": null,
   "metadata": {},
   "outputs": [],
   "source": [
    "import matplotlib.pyplot as plt\n",
    "import numexpr\n",
    "import numpy as np\n",
    "import pandas as pd\n",
    "from pathlib import Path\n",
    "\n",
    "%matplotlib inline\n",
    "plt.rcParams[\"figure.figsize\"] = [10, 5]"
   ]
  },
  {
   "cell_type": "code",
   "execution_count": null,
   "metadata": {},
   "outputs": [],
   "source": [
    "import sys\n",
    "sys.path.append(\"ZH\")\n",
    "\n",
    "from higgsstrahlung.from_root import RootfileHandler\n",
    "import higgsstrahlung.cuts as cuts\n",
    "\n",
    "\n",
    "rf = \"2020-10-08-235437\"\n",
    "rf = Path.home() / \"data/ZH/DataFrames\" / rf\n",
    "\n",
    "file_handler = RootfileHandler(tupleName=\"e1Tree\", root_folder=rf)\n",
    "e1_events = file_handler._df\n",
    "e1_signal = e1_events[e1_events.process == \"e1e1h\"]\n",
    "# meta = pd.read_pickle(file_handler._r2p.df_folder / \"meta.pkl\")\n",
    "# preselection = \"(\" + \") & (\".join(cuts.preselections[\"e1Tree\"]) + \")\"\n",
    "\n",
    "file_handler = RootfileHandler(tupleName=\"e2Tree\", root_folder=rf)\n",
    "e2_events = file_handler._df\n",
    "e2_signal = e2_events[e2_events.process == \"e2e2h\"]\n",
    "\n",
    "file_handler = RootfileHandler(tupleName=\"nuTree\", root_folder=rf)\n",
    "nu_events = file_handler._df\n",
    "nu_signal = nu_events[nu_events.process == \"nnh\"]"
   ]
  },
  {
   "cell_type": "markdown",
   "metadata": {},
   "source": [
    "## Build a ranking"
   ]
  },
  {
   "cell_type": "code",
   "execution_count": null,
   "metadata": {
    "tags": []
   },
   "outputs": [],
   "source": [
    "from z_rank import createZRanking\n",
    "\n",
    "e1_cl = createZRanking(e1_signal, e1_events, 1_000, print_every=100, save_as=\"e1_eLpR\")"
   ]
  },
  {
   "cell_type": "code",
   "execution_count": null,
   "metadata": {},
   "outputs": [],
   "source": [
    "e1_cl"
   ]
  },
  {
   "cell_type": "code",
   "execution_count": null,
   "metadata": {},
   "outputs": [],
   "source": [
    "e2_cl = createZRanking(e2_signal, e2_events, 1_000, print_every=100, save_as=\"e2_eLpR\")"
   ]
  },
  {
   "cell_type": "code",
   "execution_count": null,
   "metadata": {
    "tags": []
   },
   "outputs": [],
   "source": [
    "#%%capture out  \n",
    "# Do not show the figure. \n",
    "\n",
    "def addPreviouslyProposedCutLines(axs):\n",
    "    kw = dict(color=\"orange\", ls=\":\", label=\"proposed by-hand cut\")\n",
    "    axs[0].axvline(88, **kw)\n",
    "    axs[0].axvline(94, **kw)\n",
    "    axs[1].axvline(124, **kw)\n",
    "    axs[1].axvline(127, **kw)\n",
    "    axs[2].axvline(.99, **kw)\n",
    "    axs[3].axvline(.93, **kw)\n",
    "\n",
    "cl = e1_cl\n",
    "\n",
    "x = cl.index / 10\n",
    "#fig, axs = plt.subplots(ncols=5, figsize=(6, 4), sharey=True)\n",
    "#fig, axs = plt.subplots(ncols=5, figsize=(10, 25), sharex=True)\n",
    "fig, ax_dict = plt.subplot_mosaic(\"0123\\n0123\\n0123\\n0123\\n4444\\n4444\\n4444\", figsize=(6, 5))\n",
    "axs = [ax_dict[k] for k in sorted(ax_dict)]\n",
    "\n",
    "kw_fill = dict(alpha=.9, label=\"eff*pur ranked cut\")\n",
    "axs[0].fill_betweenx(x, cl[\"mZ >= \"], cl[\"mZ <= \"], **kw_fill)\n",
    "axs[1].fill_betweenx(x, cl[\"mRecoil <= \"], cl[\"mRecoil >= \"], **kw_fill)\n",
    "axs[2].fill_betweenx(x, 0, cl[\"abs(cosTMiss) <= \"], **kw_fill)\n",
    "axs[3].fill_betweenx(x, 0, cl[\"abs(cosTZ) <= \"], **kw_fill)\n",
    "axs[0].get_shared_y_axes().join(*axs[:-1])\n",
    "for ax in axs[1:-1]:\n",
    "    ax.set_yticklabels([])\n",
    "axs[0].set_ylim((0, 100))\n",
    "\n",
    "axs[0].set_xlabel(\"mZ\")\n",
    "axs[1].set_xlabel(\"mRecoil\")\n",
    "axs[2].set_xlabel(\"abs(cosTMiss)\")\n",
    "axs[3].set_xlabel(\"abs(cosTZ)\")\n",
    "axs[0].set_ylabel(\"1 - signal efficiency [%]\")\n",
    "axs[-1].set_xlabel(\"1 - signal efficiency [%]\")\n",
    "\n",
    "addPreviouslyProposedCutLines(axs)\n",
    "\n",
    "axs[-1].plot(x, cl.pur, label=\"pur\")\n",
    "axs[-1].plot(x, cl.eff, label=\"eff\")\n",
    "axs[-1].plot(x, cl.eff * cl.pur, label=\"eff*pur\")\n",
    "for i in range(len(axs) - 1):\n",
    "    axs[i].axhline((cl.eff * cl.pur).argmax() / 10, color=\"gray\", ls=\"--\", label=\"max(eff*pur)\")\n",
    "axs[-1].axvline((cl.eff * cl.pur).argmax() / 10, color=\"gray\", ls=\"--\", label=\"max(eff*pur)\")\n",
    "\n",
    "axs[-1].set_xlim((0, x.max()))\n",
    "axs[-2].legend()\n",
    "axs[-2].set_zorder(2)\n",
    "axs[-1].legend()\n",
    "\n",
    "fig.subplots_adjust(hspace=3)\n",
    "fig.savefig(\"fig/z_ranking.png\", facecolor=None, dpi=300)"
   ]
  },
  {
   "cell_type": "code",
   "execution_count": null,
   "metadata": {
    "tags": []
   },
   "outputs": [],
   "source": [
    "print((e1_cl.eff * e1_cl.pur).max())\n",
    "e1_cl.iloc[(e1_cl.eff * e1_cl.pur).argmax()]"
   ]
  },
  {
   "cell_type": "code",
   "execution_count": null,
   "metadata": {},
   "outputs": [],
   "source": [
    "print((e2_cl.eff * e2_cl.pur).max())\n",
    "e2_cl.iloc[(e2_cl.eff * e2_cl.pur).argmax()]"
   ]
  },
  {
   "cell_type": "markdown",
   "metadata": {},
   "source": [
    "## Add the zRank variable"
   ]
  },
  {
   "cell_type": "code",
   "execution_count": null,
   "metadata": {
    "tags": []
   },
   "outputs": [],
   "source": [
    "from z_rank import getZRank\n",
    "\n",
    "e1_events[\"zRank\"] = getZRank(e1_events, ranking_table=\"e1_eLpR\")\n",
    "e2_events[\"zRank\"] = getZRank(e2_events, ranking_table=\"e2_eLpR\")"
   ]
  },
  {
   "cell_type": "code",
   "execution_count": null,
   "metadata": {},
   "outputs": [],
   "source": [
    "e1_signal = e1_events[e1_events.process == \"e1e1h\"]\n",
    "\n",
    "e1_events.zRank.plot.hist(bins=200, weights=e1_events.weight, label=\"all\")\n",
    "e1_signal.zRank.plot.hist(bins=200, weights=e1_signal.weight, label=\"e1e1h\")\n",
    "plt.yscale(\"log\")\n",
    "plt.xlabel(\"Z$_e$\")\n",
    "plt.legend();"
   ]
  },
  {
   "cell_type": "code",
   "execution_count": null,
   "metadata": {},
   "outputs": [],
   "source": [
    "e2_signal = e2_events[e2_events.process == \"e2e2h\"]\n",
    "\n",
    "e2_events.zRank.plot.hist(bins=200, weights=e2_events.weight, label=\"all\")\n",
    "e2_signal.zRank.plot.hist(bins=200, weights=e2_signal.weight, label=\"e2e2h\")\n",
    "plt.yscale(\"log\")\n",
    "plt.xlabel(\"Z$_e$\")\n",
    "plt.legend();"
   ]
  },
  {
   "cell_type": "markdown",
   "metadata": {},
   "source": [
    "## Add the $\\nu\\nu$-BDT$_H$"
   ]
  },
  {
   "cell_type": "code",
   "execution_count": null,
   "metadata": {},
   "outputs": [],
   "source": [
    "df_path = Path(\"data\")\n",
    "if (df_path / \"nu_events.pkl\").exists():\n",
    "    nu_events = pd.read_pickle(df_path / \"nu_events.pkl\")\n",
    "    e1_events = pd.read_pickle(df_path / \"e1_events.pkl\")\n",
    "    e2_events = pd.read_pickle(df_path / \"e2_events.pkl\")\n",
    "else:\n",
    "    from higgs_only_model import getXGBModel\n",
    "\n",
    "    model, training_columns = getXGBModel()\n",
    "    nu_events[\"hBDT\"] = model.predict_proba(nu_events[training_columns])[:,1] \n",
    "    e1_events[\"hBDT\"] = model.predict_proba(e1_events[training_columns])[:,1] \n",
    "    e2_events[\"hBDT\"] = model.predict_proba(e2_events[training_columns])[:,1] \n",
    "\n",
    "    nu_events.to_pickle(df_path / \"nu_events.pkl\")\n",
    "    e1_events.to_pickle(df_path / \"e1_events.pkl\")\n",
    "    e2_events.to_pickle(df_path / \"e2_events.pkl\")"
   ]
  },
  {
   "cell_type": "code",
   "execution_count": null,
   "metadata": {},
   "outputs": [],
   "source": [
    "e1_signal = e1_events[e1_events.process == \"e1e1h\"]\n",
    "\n",
    "e1_events.hBDT.plot.hist(bins=200, weights=e1_events.weight, label=\"all\")\n",
    "e1_signal.hBDT.plot.hist(bins=200, weights=e1_signal.weight, label=\"e1e1h\")\n",
    "plt.yscale(\"log\")\n",
    "plt.xlabel(\"BDT$_H$\")\n",
    "plt.legend();"
   ]
  },
  {
   "cell_type": "code",
   "execution_count": null,
   "metadata": {},
   "outputs": [],
   "source": [
    "e2_signal = e2_events[e2_events.process == \"e2e2h\"]\n",
    "\n",
    "e2_events.hBDT.plot.hist(bins=200, weights=e2_events.weight, label=\"all\")\n",
    "e2_signal.hBDT.plot.hist(bins=200, weights=e2_signal.weight, label=\"e2e2h\")\n",
    "plt.yscale(\"log\")\n",
    "plt.xlabel(\"BDT$_H$\")\n",
    "plt.legend();"
   ]
  },
  {
   "cell_type": "code",
   "execution_count": null,
   "metadata": {},
   "outputs": [],
   "source": [
    "nu_signal = nu_events[nu_events.process == \"nnh\"]\n",
    "\n",
    "fig, ax = plt.subplots(figsize=(4, 3))\n",
    "nu_events.hBDT.plot.hist(bins=200, weights=nu_events.weight, label=\"all SM\")\n",
    "nu_signal.hBDT.plot.hist(ax=ax, bins=200, weights=nu_signal.weight, label=\"ννH\")\n",
    "ax.set_yscale(\"log\")\n",
    "ax.set_xlabel(\"BDT$_H$\")\n",
    "\n",
    "ax.axvline(.18, color=\"black\", linewidth=3)\n",
    "y_mean = pow(10, np.log10(ax.get_ylim()[1]) - np.log10(ax.get_ylim()[0]))\n",
    "y_mean = pow(10, 0.5 * (np.log10(ax.get_ylim()[1]) + np.log10(ax.get_ylim()[0])))\n",
    "ax.arrow(  .18, y_mean, .075, 0, length_includes_head=True,\n",
    "          head_width=y_mean/5, head_length=0.025, linewidth=2, color=\"black\",\n",
    "          label=\"Selection efficiency from eeH, μμH\")\n",
    "ax.set_title(\"Higgs production channel agnostic BDT for ννH selection\")\n",
    "ax.set_title(\"Higgs production agnostic BDT for ννH\")\n",
    "ax.legend()\n",
    "fig.tight_layout()\n",
    "fig.savefig(\"fig/new_ext_nnH_BDT_production_agnostic.png\", facecolor=None, dpi=300)\n"
   ]
  },
  {
   "cell_type": "code",
   "execution_count": null,
   "metadata": {},
   "outputs": [],
   "source": [
    "nu_events"
   ]
  },
  {
   "cell_type": "markdown",
   "metadata": {},
   "source": [
    "## Appendix:\n",
    "A H ranking for the Higgs part of ZH, Z->$\\nu\\nu$ events.\n",
    "(Was produced earlier along the lines of the Z ranking. Here only loaded.)"
   ]
  },
  {
   "cell_type": "markdown",
   "metadata": {},
   "source": [
    "from z_rank import getZRank\n",
    "\n",
    "nu_events[\"hRank\"] = getZRank(nu_events, ranking_table=\"nu_eLpR\")\n",
    "nu_signal = nu_events[nu_events.process == \"nnh\"]\n",
    "nu_events.hRank.plot.hist(bins=200, weights=nu_events.weight, label=\"all\")\n",
    "nu_signal.hRank.plot.hist(bins=200, weights=nu_signal.weight, label=\"nnh\")\n",
    "plt.yscale(\"log\")\n",
    "plt.xlabel(\"BDT$_H$\")\n",
    "plt.legend();"
   ]
  },
  {
   "cell_type": "code",
   "execution_count": null,
   "metadata": {},
   "outputs": [],
   "source": []
  }
 ],
 "metadata": {
  "interpreter": {
   "hash": "b647f36ca438a0abe93235837e3dd95bfad2ab5ce8629a0cf0e1a667d24e6a25"
  },
  "kernelspec": {
   "display_name": "Python 3.8.6 64-bit ('myLCBoost': conda)",
   "language": "python",
   "name": "python3"
  },
  "language_info": {
   "codemirror_mode": {
    "name": "ipython",
    "version": 3
   },
   "file_extension": ".py",
   "mimetype": "text/x-python",
   "name": "python",
   "nbconvert_exporter": "python",
   "pygments_lexer": "ipython3",
   "version": "3.8.6"
  }
 },
 "nbformat": 4,
 "nbformat_minor": 2
}
