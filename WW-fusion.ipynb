{
 "cells": [
  {
   "cell_type": "markdown",
   "metadata": {},
   "source": [
    "# WW-fusion cross section \n",
    "\n",
    "## Importance at $\\sqrt{s}=250~$GeV\n",
    "The relevant Higgs production cross sections are:\n",
    "\n",
    "| $\\sqrt{s}=250~$GeV       | $~~$eLpR  | $~~$eRpL | $~~$eLpL | $~~$eRpR |\n",
    "|:------------------------:|----------:|---------:|---------:|---------:|\n",
    "| $\\sigma_{\\nu \\nu H}[fb]$ |     128.6 |     65.1 |      0.0 |      0.0 |\n",
    "| $\\sigma_{\\mu \\mu H}[fb]$ |      17.1 |     11.0 |      0.0 |      0.0 |\n",
    "| $\\sigma_{eeH}[fb]$       |      17.6 |     11.2 |      0.6 |      0.6 |\n",
    "\n",
    "WW-fusion is only possible for the eLpR (pure) polarisation scenario.\n",
    "Its cross section can be approximated as:\n",
    "\n",
    "\\begin{align}\n",
    "\\sigma_\\mathrm{ww-fusion}^\\mathrm{eLpR} \n",
    "&\\approx \\left[ f_{\\nu \\nu H \\mathrm{-enhancement}}^{L/R} / \n",
    "               f_{\\mathrm{Higgsstrahlung-enhancement}}^{L/R} - 1 \\right] \n",
    "        \\cdot \\sigma_{\\nu \\nu H}^\\mathrm{eLpR} \\\\\n",
    "&=  \\left[ (\\sigma_{\\nu \\nu H}^\\mathrm{eLpR} / \\sigma_{\\nu \\nu H}^\\mathrm{eRpL}) / \n",
    "          (\\sigma_{\\mu \\mu H}^\\mathrm{eLpR} / \\sigma_{\\mu \\mu H}^\\mathrm{eRpL}) - 1 \\right] \n",
    "        \\cdot \\sigma_{\\nu \\nu H}^\\mathrm{eLpR} \\\\\n",
    "&= 0.27 \\sigma_{\\nu \\nu H}^\\mathrm{eLpR} = 34.8~\\mathrm{fb}.\n",
    "\\end{align}"
   ]
  },
  {
   "cell_type": "code",
   "execution_count": null,
   "metadata": {},
   "outputs": [],
   "source": [
    "for w_LR, w_RL in [(.585, .035), (.035, .585), (.25, .25)]:\n",
    "    A = .27 * 128.6 * w_LR\n",
    "    B = 128.6 * w_LR + 65.1 * w_RL\n",
    "    print(f\"|      {A:5.2f} fb |           {B:5.2f} fb |                 {A/(A+B)*100:4.1f} % |\")"
   ]
  },
  {
   "cell_type": "markdown",
   "metadata": {},
   "source": [
    "### Contribution for different beam polarisation scenarios\n",
    "\n",
    "| P$(e^-, e^+)$    | label       | $\\sigma_{LR}$ weight | $~~$WW-fusion | $~~$Higgsstrahlung | $~~$WW-fusion fraction |\n",
    "|:-----------------|:------------|---------------------:|--------------:|-------------------:|-----------------------:|\n",
    "| $(-80\\%, +30\\%)$ | eLpR        | 0.585                |      20.31 fb |           77.51 fb |                 20.8 % |\n",
    "| $(+80\\%, -30\\%)$ | eRpL        | 0.035                |       1.22 fb |           42.58 fb |                  2.8 % |\n",
    "| $(0\\%, 0\\%)$     | unpolarised | 0.250                |       8.68 fb |           48.42 fb |                 15.2 % |"
   ]
  },
  {
   "cell_type": "markdown",
   "metadata": {},
   "source": [
    "## Previous studies\n",
    "\n",
    "Some results for WW-fusion at $\\sqrt{s} = 250~$GeV are summarized in [Nucl.Part.Phys.Proc. 273-275 (2016) 826-833](https://inspirehep.net/literature/1467957) by J. Tian/K. Fujii.\n",
    "\n",
    "The uncertainties relevant here are those deduced from $\\int L \\mathrm{d}t / \\mathrm{fb} = 250$ at 250 GeV for the P$(e^-, e^+) = (-80\\%, +30\\%)$ polarisation scenario.\n",
    "\n",
    "### Higgsstrahlung\n",
    "\n",
    "$\\frac{\\Delta g_{HZZ}}{g_{HZZ}} = 1.3\\%$ from $e^+e^-H$ and $\\mu^+\\mu^-H$ events. \n",
    "After selection on $M_Z$ and $M_\\mathrm{recoil}$, the ZZ-fusion component in $e^+e^-H$ is negligible.\n",
    "$\\frac{\\Delta \\sigma}{\\sigma} = 2 \\cdot \\frac{\\Delta g}{g}.$ \n",
    "\n",
    "### WW-fusion\n",
    "\n",
    "- $Y_1 := \\sigma_{ZH} = F_1 g_{HZZ}^2$ \n",
    "- $Y_2 := \\sigma_{\\nu \\nu H} BR(H \\rightarrow bb),~ \\sigma_{\\nu \\nu H} = F_2 g_{HWW}^2$ \n",
    "- $Y_3 := \\sigma_{ZH} BR(H \\rightarrow bb),~ \\sigma_{HZZ} = F_3 g_{HZZ}^2$ \n",
    "\n",
    "$\\rightarrow g_{HWW} = \\sqrt{\\frac{Y_1 Y_2}{Y_3} \\frac{F_3}{F_1 F_2}}$\n",
    "\n",
    "$\\frac{\\Delta g_{HWW}}{g_{HWW}} = 4.8\\%$ can be achieved from an analysis of the $H\\rightarrow bb$ channel and leveraging the Higgsstrahlung results from the previous section.\n",
    "\n",
    "The figure below shows the missing mass distribution that is used to extract this observable and uncertainty. \n",
    "\n",
    "\n",
    "<img src=\"data/assets/missing_mass.png\" width=600 alt=\"Figure 7 in https://inspirehep.net/literature/1467957\"/>"
   ]
  },
  {
   "cell_type": "markdown",
   "metadata": {},
   "source": [
    "## Strategy A: Change nothing\n",
    "\n",
    "For a refresher on the general strategy to extract the $N_{\\nu \\nu H}$ check out `motivation.ipynb`. \n",
    "\n",
    "The optimal selection efficiency for the Higgsstrahlung events is found with the Standard Model branching ratios. \n",
    "For a good BDT, this selection efficiency will be high (e.g. 97%).\n",
    "\n",
    "The two extreme cases for the WW-fusion events are:\n",
    "\n",
    "### No WW-fusion events selected\n",
    "\n",
    "In this scenario, the chosen strategy would be perfect. \n",
    "The WW-fusion events do not enter into the analysis, and thus do not influence the Higgsstrahlung cross section estimation.\n",
    "\n",
    "### All WW-fusion events selected\n",
    "\n",
    "The Higgsstrahlung cross section is over-estimated by a factor $(1+f_{WW}) / \\epsilon_H$.\n",
    "The Higgsstrahlung selection efficiency ($\\epsilon_H$) should be close to 1 and can therefore be neglected to first order.\n",
    "The fraction of events from WW-fusion ($f_{WW}$) depends on the polarisation scenario.\n",
    "\n",
    "### Conclusion\n",
    "\n",
    "The expected uncertainty on $\\sigma_{ZH}$ after 250 fb$^{-1}$ at $\\sqrt{s} = 250~$GeV from other analyses is 2.6%.\n",
    "The uncertainty from whether the WW-fusion events are part of the selected events or not adds an uncertainty of 15-20% for the left polarised and unpolarised scenarios.\n",
    "They thus can not significantly improve the measurement.\n",
    "\n",
    "Only 2.8% WW-fusion contribution to the $\\nu \\nu H$ events are expected in the right-polarised ILC scenario.\n",
    "This is at least close to the expected $\\sigma_{ZH}$ uncertainty from other analyses.\n",
    "Nevertheless this additional uncertainty source significantly spoils the quality of the $\\nu \\nu H$ analysis.\n",
    "\n"
   ]
  },
  {
   "cell_type": "markdown",
   "metadata": {},
   "source": [
    "## Strategy B: Change the $\\nu \\nu H$ selection\n",
    "\n",
    "We could construct a new selection/BDT.\n",
    "If being careful, it should be possible to build it in a way that does not discriminate between Higgsstrahlung and WW-fusion.\n",
    "Among the variables that could not be used anymore is $M_\\mathrm{miss} = M_\\mathrm{recoil~to~Higgs}$.\n",
    "\n",
    "When the same selection efficiency in ensured for Higgsstrahlung and WW-fusion events, the uncertainty from WW-fusion would be:\n",
    "\n",
    "\\begin{align}\n",
    "\\frac{\\Delta \\sigma_{ZH}^\\mathrm{from~WW-fusion}}{\\sigma_{ZH}}\n",
    "= \\frac{\\epsilon_H \\Delta \\sigma_{HWW}}{\\sigma_{ZH}} \n",
    "\\approx \\frac{\\Delta \\sigma_{HWW}}{\\sigma_{ZH}} \n",
    "= 2 \\frac{\\Delta g_{HWW}}{g_{HWW}} \\frac{\\sigma_{HWW}}{\\sigma_{ZH}}\n",
    "\\approx 0.1 \\frac{\\sigma_{HWW}}{\\sigma_{ZH}}.\n",
    "\\end{align}\n",
    "\n",
    "In the last step we assume that the $g_{HWW}$ coupling is known with the uncertainty claimed by the paper mentioned above (for 250 fb$^{-1}$ at the left polarised 250~GeV ILC).\n",
    "\n",
    "The WW-fusion contribution to the Higgsstrahlung uncertainty would then be 0.29% for the right polarised and 2.6% for the left polarised scenario (note that the _right polarised_ here assumes that we nonetheless know $g_{HWW}$ as well as we can from the left polarised scenario - this is realistic only if a left polarised ILC run was performed beforehand).\n",
    "\n",
    "Note that to keep model independence, it is not possible to perform a shape fit as in the $e^+e^-\\rightarrow \\nu \\nu H \\rightarrow \\nu \\nu bb$ case, with all events after the new $\\nu \\nu H$  selection.\n",
    "\n",
    "### Conclusion\n",
    "\n",
    "The uncertainty from WW-fusion contamination seems manageable with this strategy. \n",
    "At least two issues remain. \n",
    "The performance of the selection is expected to worsen seriously with these extra restrictions.\n",
    "If $g_{HWW}$ is determined in the same run, a careful study of the correlation of the uncertainties will be necessary, as a large part of the events is reused."
   ]
  },
  {
   "cell_type": "markdown",
   "metadata": {},
   "source": [
    "## WW-fusion distribution in selected variables"
   ]
  },
  {
   "cell_type": "code",
   "execution_count": null,
   "metadata": {},
   "outputs": [],
   "source": [
    "# For nicer plot sizes.\n",
    "import matplotlib.pyplot as plt\n",
    "%matplotlib inline\n",
    "plt.rcParams[\"figure.figsize\"] = [5, 5]"
   ]
  },
  {
   "cell_type": "code",
   "execution_count": null,
   "metadata": {},
   "outputs": [],
   "source": [
    "import numpy as np\n",
    "from helper_WW_fusion import plot_WW_vs_ZH_1D, nus\n",
    "\n",
    "var_bins = [\n",
    "    (\"mMiss\", np.arange(0, 250, 5)),\n",
    "    (\"mVis\", np.arange(0, 180, 5)),\n",
    "    (\"cosTMiss\", np.linspace(-1, 1, 50)),\n",
    "    (\"sphericity\", np.linspace(0, 1, 50)),\n",
    "]\n",
    "\n",
    "f = plot_WW_vs_ZH_1D(var_bins)\n",
    "f.savefig(\"fig/ww_vs_zh.png\", facecolor=\"white\")"
   ]
  },
  {
   "cell_type": "code",
   "execution_count": null,
   "metadata": {},
   "outputs": [],
   "source": [
    "nus.columns"
   ]
  },
  {
   "cell_type": "markdown",
   "metadata": {},
   "source": [
    "## Not ready yet"
   ]
  },
  {
   "cell_type": "code",
   "execution_count": null,
   "metadata": {},
   "outputs": [],
   "source": [
    "import uproot\n",
    "\n",
    "time_tag = \"2020-10-21-123322\"\n",
    "rf_zh = f\"data/rootfiles/{time_tag}/eRpL/Pnnh/master_thesis.root\"\n",
    "\n",
    "zh = uproot.open(rf_zh)[\"nuTree\"].pandas.df()\n",
    "nu = uproot.open(rf_zh.replace(\"eRpL\", \"eLpR\"))[\"nuTree\"].pandas.df()"
   ]
  },
  {
   "cell_type": "code",
   "execution_count": null,
   "metadata": {},
   "outputs": [],
   "source": [
    "for col in [\"mVis\", \"mMiss\"]:\n",
    "    plt.figure(); plt.ylabel(\"mean \"+col)\n",
    "    nus.groupby(\"hDecay\")[\"mVis\"].mean().plot.bar()"
   ]
  },
  {
   "cell_type": "code",
   "execution_count": null,
   "metadata": {},
   "outputs": [],
   "source": []
  }
 ],
 "metadata": {
  "interpreter": {
   "hash": "b647f36ca438a0abe93235837e3dd95bfad2ab5ce8629a0cf0e1a667d24e6a25"
  },
  "kernelspec": {
   "display_name": "Python 3.8.6 64-bit ('myLCBoost': conda)",
   "language": "python",
   "name": "python3"
  },
  "language_info": {
   "codemirror_mode": {
    "name": "ipython",
    "version": 3
   },
   "file_extension": ".py",
   "mimetype": "text/x-python",
   "name": "python",
   "nbconvert_exporter": "python",
   "pygments_lexer": "ipython3",
   "version": "3.8.6"
  }
 },
 "nbformat": 4,
 "nbformat_minor": 2
}
