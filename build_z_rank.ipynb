{
 "cells": [
  {
   "cell_type": "markdown",
   "metadata": {},
   "source": [
    "# Build zRank"
   ]
  },
  {
   "cell_type": "code",
   "execution_count": null,
   "metadata": {},
   "outputs": [],
   "source": [
    "import matplotlib.pyplot as plt\n",
    "import numexpr\n",
    "import numpy as np\n",
    "import pandas as pd\n",
    "from pathlib import Path\n",
    "\n",
    "%matplotlib inline\n",
    "plt.rcParams[\"figure.figsize\"] = [10, 5]"
   ]
  },
  {
   "cell_type": "code",
   "execution_count": null,
   "metadata": {},
   "outputs": [],
   "source": [
    "import sys\n",
    "sys.path.append(\"/home/kunath/iLCSoft/projects/ZH\")\n",
    "\n",
    "from higgsstrahlung.from_root import RootfileHandler\n",
    "import higgsstrahlung.cuts as cuts\n",
    "\n",
    "rf = \"2020-10-08-235437\"\n",
    "\n",
    "file_handler = RootfileHandler(tupleName=\"e1Tree\", root_folder=rf)\n",
    "e1_events = file_handler._df\n",
    "e1_signal = e1_events[e1_events.process == \"e1e1h\"]\n",
    "# meta = pd.read_pickle(file_handler._r2p.df_folder / \"meta.pkl\")\n",
    "# preselection = \"(\" + \") & (\".join(cuts.preselections[\"e1Tree\"]) + \")\"\n",
    "\n",
    "file_handler = RootfileHandler(tupleName=\"e2Tree\", root_folder=rf)\n",
    "e2_events = file_handler._df\n",
    "e2_signal = e2_events[e2_events.process == \"e2e2h\"]\n",
    "\n",
    "file_handler = RootfileHandler(tupleName=\"nuTree\", root_folder=rf)\n",
    "nu_events = file_handler._df\n",
    "nu_signal = nu_events[nu_events.process == \"nnh\"]"
   ]
  },
  {
   "cell_type": "markdown",
   "metadata": {},
   "source": [
    "## Build a ranking"
   ]
  },
  {
   "cell_type": "code",
   "execution_count": null,
   "metadata": {
    "tags": []
   },
   "outputs": [],
   "source": [
    "from z_rank import createZRanking\n",
    "\n",
    "e1_cl = createZRanking(e1_signal, e1_events, 1_000, print_every=100, save_as=\"e1_eLpR\")"
   ]
  },
  {
   "cell_type": "code",
   "execution_count": null,
   "metadata": {},
   "outputs": [],
   "source": [
    "e1_cl"
   ]
  },
  {
   "cell_type": "code",
   "execution_count": null,
   "metadata": {},
   "outputs": [],
   "source": [
    "e2_cl = createZRanking(e2_signal, e2_events, 1_000, print_every=100, save_as=\"e2_eLpR\")"
   ]
  },
  {
   "cell_type": "code",
   "execution_count": null,
   "metadata": {
    "tags": []
   },
   "outputs": [],
   "source": [
    "#%%capture out  \n",
    "# Do not show the figure. \n",
    "\n",
    "def addPreviouslyProposedCutLines(axs):\n",
    "    kw = dict(color=\"orange\", ls=\":\")\n",
    "    axs[0].axhline(88, **kw, label=\"proposed by-hand cut\")\n",
    "    axs[0].axhline(94, **kw)\n",
    "    axs[1].axhline(124, **kw)\n",
    "    axs[1].axhline(127, **kw)\n",
    "    axs[2].axhline(.99, **kw)\n",
    "    axs[3].axhline(.93, **kw)\n",
    "\n",
    "cl = e1_cl\n",
    "\n",
    "fig, axs = plt.subplots(5, figsize=(10, 25), sharex=True)\n",
    "axs[0].fill_between(cl.index, cl[\"mZ >= \"], cl[\"mZ <= \"], alpha=.9, label=\"eff-pur ranked cut\")\n",
    "axs[1].fill_between(cl.index, cl[\"mRecoil <= \"], cl[\"mRecoil >= \"], alpha=.9)\n",
    "axs[2].fill_between(cl.index, 0, cl[\"abs(cosTMiss) <= \"], alpha=.9)\n",
    "axs[3].fill_between(cl.index, 0, cl[\"abs(cosTZ) <= \"], alpha=.9)\n",
    "\n",
    "for i in range(len(axs)):\n",
    "    axs[i].axvline((cl.eff * cl.pur).argmax(), color=\"gray\", ls=\"--\")\n",
    "axs[0].set_ylabel(\"mZ\")\n",
    "axs[1].set_ylabel(\"mRecoil\")\n",
    "axs[2].set_ylabel(\"abs(cosTMiss)\")\n",
    "axs[3].set_ylabel(\"abs(cosTZ)\")\n",
    "axs[-1].set_xlabel(\"iteration\")\n",
    "\n",
    "addPreviouslyProposedCutLines(axs)\n",
    "\n",
    "cl.pur.plot(ax=axs[-1])\n",
    "cl.eff.plot(ax=axs[-1])\n",
    "(cl.eff * cl.pur).plot(label=\"eff*pur\", ax=axs[-1])\n",
    "axs[-1].axvline((cl.eff * cl.pur).argmax(), color=\"gray\", ls=\"--\")\n",
    "axs[-1].set_xlim((0, cl.index.max()))\n",
    "axs[0].legend()\n",
    "axs[-1].legend()\n",
    "\n",
    "fig.savefig(\"fig/z_ranking.png\", facecolor=\"white\", dpi=300)"
   ]
  },
  {
   "cell_type": "code",
   "execution_count": null,
   "metadata": {
    "tags": []
   },
   "outputs": [],
   "source": [
    "print((e1_cl.eff * e1_cl.pur).max())\n",
    "e1_cl.iloc[(e1_cl.eff * e1_cl.pur).argmax()]"
   ]
  },
  {
   "cell_type": "code",
   "execution_count": null,
   "metadata": {},
   "outputs": [],
   "source": [
    "print((e2_cl.eff * e2_cl.pur).max())\n",
    "e2_cl.iloc[(e2_cl.eff * e2_cl.pur).argmax()]"
   ]
  },
  {
   "cell_type": "markdown",
   "metadata": {},
   "source": [
    "## Add the zRank variable"
   ]
  },
  {
   "cell_type": "code",
   "execution_count": null,
   "metadata": {
    "tags": []
   },
   "outputs": [],
   "source": [
    "from z_rank import getZRank\n",
    "\n",
    "e1_events[\"zRank\"] = getZRank(e1_events, ranking_table=\"e1_eLpR\")\n",
    "e2_events[\"zRank\"] = getZRank(e2_events, ranking_table=\"e2_eLpR\")"
   ]
  },
  {
   "cell_type": "code",
   "execution_count": null,
   "metadata": {},
   "outputs": [],
   "source": [
    "e1_signal = e1_events[e1_events.process == \"e1e1h\"]\n",
    "\n",
    "e1_events.zRank.plot.hist(bins=200, weights=e1_events.weight, label=\"all\")\n",
    "e1_signal.zRank.plot.hist(bins=200, weights=e1_signal.weight, label=\"e1e1h\")\n",
    "plt.yscale(\"log\")\n",
    "plt.xlabel(\"Z$_e$\")\n",
    "plt.legend();"
   ]
  },
  {
   "cell_type": "code",
   "execution_count": null,
   "metadata": {},
   "outputs": [],
   "source": [
    "e2_signal = e2_events[e2_events.process == \"e2e2h\"]\n",
    "\n",
    "e2_events.zRank.plot.hist(bins=200, weights=e2_events.weight, label=\"all\")\n",
    "e2_signal.zRank.plot.hist(bins=200, weights=e2_signal.weight, label=\"e2e2h\")\n",
    "plt.yscale(\"log\")\n",
    "plt.xlabel(\"Z$_e$\")\n",
    "plt.legend();"
   ]
  },
  {
   "cell_type": "markdown",
   "metadata": {},
   "source": [
    "## Add the $\\nu\\nu$-BDT$_H$"
   ]
  },
  {
   "cell_type": "code",
   "execution_count": null,
   "metadata": {},
   "outputs": [],
   "source": [
    "df_path = Path(\"data\")\n",
    "if (df_path / \"nu_events.pkl\").exists():\n",
    "    nu_events = pd.read_pickle(df_path / \"nu_events.pkl\")\n",
    "    e1_events = pd.read_pickle(df_path / \"e1_events.pkl\")\n",
    "    e2_events = pd.read_pickle(df_path / \"e2_events.pkl\")\n",
    "else:\n",
    "    from higgs_only_model import getXGBModel\n",
    "\n",
    "    model, training_columns = getXGBModel()\n",
    "    nu_events[\"hBDT\"] = model.predict_proba(nu_events[training_columns])[:,1] \n",
    "    e1_events[\"hBDT\"] = model.predict_proba(e1_events[training_columns])[:,1] \n",
    "    e2_events[\"hBDT\"] = model.predict_proba(e2_events[training_columns])[:,1] \n",
    "\n",
    "    nu_events.to_pickle(df_path / \"nu_events.pkl\")\n",
    "    e1_events.to_pickle(df_path / \"e1_events.pkl\")\n",
    "    e2_events.to_pickle(df_path / \"e2_events.pkl\")"
   ]
  },
  {
   "cell_type": "code",
   "execution_count": null,
   "metadata": {},
   "outputs": [],
   "source": [
    "e1_signal = e1_events[e1_events.process == \"e1e1h\"]\n",
    "\n",
    "e1_events.hBDT.plot.hist(bins=200, weights=e1_events.weight, label=\"all\")\n",
    "e1_signal.hBDT.plot.hist(bins=200, weights=e1_signal.weight, label=\"e1e1h\")\n",
    "plt.yscale(\"log\")\n",
    "plt.xlabel(\"BDT$_H$\")\n",
    "plt.legend();"
   ]
  },
  {
   "cell_type": "code",
   "execution_count": null,
   "metadata": {},
   "outputs": [],
   "source": [
    "e2_signal = e2_events[e2_events.process == \"e2e2h\"]\n",
    "\n",
    "e2_events.hBDT.plot.hist(bins=200, weights=e2_events.weight, label=\"all\")\n",
    "e2_signal.hBDT.plot.hist(bins=200, weights=e2_signal.weight, label=\"e2e2h\")\n",
    "plt.yscale(\"log\")\n",
    "plt.xlabel(\"BDT$_H$\")\n",
    "plt.legend();"
   ]
  },
  {
   "cell_type": "code",
   "execution_count": null,
   "metadata": {},
   "outputs": [],
   "source": [
    "nu_signal = nu_events[nu_events.process == \"nnh\"]\n",
    "\n",
    "nu_events.hBDT.plot.hist(bins=200, weights=nu_events.weight, label=\"all\")\n",
    "nu_signal.hBDT.plot.hist(bins=200, weights=nu_signal.weight, label=\"nnh\")\n",
    "plt.yscale(\"log\")\n",
    "plt.xlabel(\"BDT$_H$\")\n",
    "plt.legend();"
   ]
  },
  {
   "cell_type": "code",
   "execution_count": null,
   "metadata": {},
   "outputs": [],
   "source": [
    "nu_events"
   ]
  },
  {
   "cell_type": "markdown",
   "metadata": {},
   "source": [
    "## Appendix:\n",
    "A H ranking for the Higgs part of ZH, Z->$\\nu\\nu$ events.\n",
    "(Was produced earlier along the lines of the Z ranking. Here only loaded.)"
   ]
  },
  {
   "cell_type": "markdown",
   "metadata": {},
   "source": [
    "from z_rank import getZRank\n",
    "\n",
    "nu_events[\"hRank\"] = getZRank(nu_events, ranking_table=\"nu_eLpR\")\n",
    "nu_signal = nu_events[nu_events.process == \"nnh\"]\n",
    "nu_events.hRank.plot.hist(bins=200, weights=nu_events.weight, label=\"all\")\n",
    "nu_signal.hRank.plot.hist(bins=200, weights=nu_signal.weight, label=\"nnh\")\n",
    "plt.yscale(\"log\")\n",
    "plt.xlabel(\"BDT$_H$\")\n",
    "plt.legend();"
   ]
  },
  {
   "cell_type": "code",
   "execution_count": null,
   "metadata": {},
   "outputs": [],
   "source": []
  }
 ],
 "metadata": {
  "kernelspec": {
   "display_name": "Python 3.8.5 64-bit ('myLCBoost': conda)",
   "metadata": {
    "interpreter": {
     "hash": "f12617a82ee23f7674766d6e7447a8cefc8549468de9b58204a6fdd7d4bcc355"
    }
   },
   "name": "Python 3.8.5 64-bit ('myLCBoost': conda)"
  },
  "language_info": {
   "codemirror_mode": {
    "name": "ipython",
    "version": 3
   },
   "file_extension": ".py",
   "mimetype": "text/x-python",
   "name": "python",
   "nbconvert_exporter": "python",
   "pygments_lexer": "ipython3",
   "version": "3.8.5-final"
  }
 },
 "nbformat": 4,
 "nbformat_minor": 2
}
